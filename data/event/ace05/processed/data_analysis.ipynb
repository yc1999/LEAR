{
 "cells": [
  {
   "cell_type": "code",
   "execution_count": 1,
   "metadata": {},
   "outputs": [],
   "source": [
    "# reference:https://github.com/thunlp/HMEAE\n",
    "import json"
   ]
  },
  {
   "cell_type": "code",
   "execution_count": 37,
   "metadata": {},
   "outputs": [
    {
     "data": {
      "text/plain": [
       "16807"
      ]
     },
     "execution_count": 37,
     "metadata": {},
     "output_type": "execute_result"
    }
   ],
   "source": [
    "filename = \"dev.json\"\n",
    "data = []\n",
    "with open(filename, \"r\") as f:\n",
    "  data = json.load(f)\n",
    "len(data)"
   ]
  },
  {
   "cell_type": "code",
   "execution_count": 38,
   "metadata": {},
   "outputs": [
    {
     "data": {
      "text/plain": [
       "{'tokens': ['And',\n",
       "  'Colonel',\n",
       "  'Leonhard',\n",
       "  ',',\n",
       "  'we',\n",
       "  \"'re\",\n",
       "  'going',\n",
       "  'to',\n",
       "  'talk',\n",
       "  'a',\n",
       "  'little',\n",
       "  'bit',\n",
       "  'about',\n",
       "  'urban',\n",
       "  'combat'],\n",
       " 'start': 196,\n",
       " 'end': 268,\n",
       " 'offsets': [[196, 198],\n",
       "  [200, 206],\n",
       "  [208, 215],\n",
       "  [216, 216],\n",
       "  [218, 219],\n",
       "  [220, 222],\n",
       "  [224, 228],\n",
       "  [230, 231],\n",
       "  [233, 236],\n",
       "  [238, 238],\n",
       "  [240, 245],\n",
       "  [247, 249],\n",
       "  [251, 255],\n",
       "  [257, 261],\n",
       "  [263, 268]],\n",
       " 'event_type': 'Attack',\n",
       " 'trigger_tokens': ['combat'],\n",
       " 'trigger_start': 14,\n",
       " 'trigger_end': 14,\n",
       " 'trigger_offsets': [[263, 268]],\n",
       " 'entities': [{'tokens': ['we'],\n",
       "   'offsets': [[218, 219]],\n",
       "   'start': 218,\n",
       "   'end': 219,\n",
       "   'idx_start': 4,\n",
       "   'idx_end': 4,\n",
       "   'role': 'None'},\n",
       "  {'tokens': ['Colonel'],\n",
       "   'offsets': [[200, 206]],\n",
       "   'start': 200,\n",
       "   'end': 206,\n",
       "   'idx_start': 1,\n",
       "   'idx_end': 1,\n",
       "   'role': 'None'},\n",
       "  {'tokens': ['Colonel', 'Leonhard'],\n",
       "   'offsets': [[200, 206], [208, 215]],\n",
       "   'start': 200,\n",
       "   'end': 215,\n",
       "   'idx_start': 1,\n",
       "   'idx_end': 2,\n",
       "   'role': 'None'}],\n",
       " 'file': 'CNN_IP_20030403.1600.00-4',\n",
       " 'dir': 'bc'}"
      ]
     },
     "execution_count": 38,
     "metadata": {},
     "output_type": "execute_result"
    }
   ],
   "source": [
    "data[0]"
   ]
  },
  {
   "cell_type": "code",
   "execution_count": 39,
   "metadata": {},
   "outputs": [],
   "source": [
    "sent_set = set()\n",
    "for example in data:\n",
    "    tokens = ' '.join(example[\"tokens\"])\n",
    "    sent_set.add(tokens)       "
   ]
  },
  {
   "cell_type": "code",
   "execution_count": 40,
   "metadata": {},
   "outputs": [
    {
     "data": {
      "text/plain": [
       "880"
      ]
     },
     "execution_count": 40,
     "metadata": {},
     "output_type": "execute_result"
    }
   ],
   "source": [
    "len(sent_set)"
   ]
  },
  {
   "cell_type": "code",
   "execution_count": 21,
   "metadata": {},
   "outputs": [
    {
     "data": {
      "text/plain": [
       "dict_keys(['tokens', 'start', 'end', 'offsets', 'event_type', 'trigger_tokens', 'trigger_start', 'trigger_end', 'trigger_offsets', 'entities', 'file', 'dir'])"
      ]
     },
     "execution_count": 21,
     "metadata": {},
     "output_type": "execute_result"
    }
   ],
   "source": [
    "data[0].keys()"
   ]
  },
  {
   "cell_type": "code",
   "execution_count": 22,
   "metadata": {},
   "outputs": [],
   "source": [
    "from collections import defaultdict\n",
    "type2example = defaultdict(list)\n",
    "cnt = 0\n",
    "for example in data:\n",
    "  event_type = example[\"event_type\"]\n",
    "  type2example[event_type].append(example)\n",
    "  if event_type != \"None\":\n",
    "    cnt += len(example[\"tokens\"])"
   ]
  },
  {
   "cell_type": "code",
   "execution_count": 23,
   "metadata": {},
   "outputs": [
    {
     "data": {
      "text/plain": [
       "16227"
      ]
     },
     "execution_count": 23,
     "metadata": {},
     "output_type": "execute_result"
    }
   ],
   "source": [
    "cnt"
   ]
  },
  {
   "cell_type": "code",
   "execution_count": 24,
   "metadata": {},
   "outputs": [
    {
     "data": {
      "text/plain": [
       "dict_keys(['Meet', 'None', 'Transport', 'Attack', 'Die', 'Phone-Write', 'Start-Org', 'Transfer-Money', 'Charge-Indict', 'Elect', 'Appeal', 'Trial-Hearing', 'Start-Position', 'Sue', 'Convict', 'Execute', 'Sentence', 'Divorce', 'Marry', 'Demonstrate', 'Arrest-Jail', 'End-Position', 'Injure', 'Release-Parole', 'Fine', 'Transfer-Ownership', 'End-Org', 'Acquit', 'Nominate'])"
      ]
     },
     "execution_count": 24,
     "metadata": {},
     "output_type": "execute_result"
    }
   ],
   "source": [
    "type2example.keys()"
   ]
  },
  {
   "cell_type": "code",
   "execution_count": 25,
   "metadata": {},
   "outputs": [
    {
     "data": {
      "text/plain": [
       "{'tokens': ['She',\n",
       "  'made',\n",
       "  'the',\n",
       "  'statements',\n",
       "  'after',\n",
       "  'a',\n",
       "  'meeting',\n",
       "  'with',\n",
       "  'the',\n",
       "  'speaker',\n",
       "  'of',\n",
       "  'the',\n",
       "  'Portuguese',\n",
       "  'parliament',\n",
       "  ',',\n",
       "  'Joao',\n",
       "  'Mota',\n",
       "  'Amaral'],\n",
       " 'start': 543,\n",
       " 'end': 645,\n",
       " 'offsets': [[543, 545],\n",
       "  [547, 550],\n",
       "  [552, 554],\n",
       "  [556, 565],\n",
       "  [567, 571],\n",
       "  [573, 573],\n",
       "  [575, 581],\n",
       "  [583, 586],\n",
       "  [588, 590],\n",
       "  [592, 598],\n",
       "  [600, 601],\n",
       "  [603, 605],\n",
       "  [607, 616],\n",
       "  [618, 627],\n",
       "  [628, 628],\n",
       "  [630, 633],\n",
       "  [635, 638],\n",
       "  [640, 645]],\n",
       " 'event_type': 'None',\n",
       " 'trigger_tokens': ['She'],\n",
       " 'trigger_start': 0,\n",
       " 'trigger_end': 0,\n",
       " 'trigger_offsets': [[543, 545]],\n",
       " 'entities': [{'tokens': ['Portuguese'],\n",
       "   'offsets': [[607, 616]],\n",
       "   'start': 607,\n",
       "   'end': 616,\n",
       "   'idx_start': 12,\n",
       "   'idx_end': 12,\n",
       "   'role': 'None'},\n",
       "  {'tokens': ['the', 'speaker', 'of', 'the', 'Portuguese', 'parliament'],\n",
       "   'offsets': [[588, 590],\n",
       "    [592, 598],\n",
       "    [600, 601],\n",
       "    [603, 605],\n",
       "    [607, 616],\n",
       "    [618, 627]],\n",
       "   'start': 588,\n",
       "   'end': 627,\n",
       "   'idx_start': 8,\n",
       "   'idx_end': 13,\n",
       "   'role': 'None'},\n",
       "  {'tokens': ['the', 'Portuguese', 'parliament'],\n",
       "   'offsets': [[603, 605], [607, 616], [618, 627]],\n",
       "   'start': 603,\n",
       "   'end': 627,\n",
       "   'idx_start': 11,\n",
       "   'idx_end': 13,\n",
       "   'role': 'None'},\n",
       "  {'tokens': ['She'],\n",
       "   'offsets': [[543, 545]],\n",
       "   'start': 543,\n",
       "   'end': 545,\n",
       "   'idx_start': 0,\n",
       "   'idx_end': 0,\n",
       "   'role': 'None'},\n",
       "  {'tokens': ['Joao', 'Mota', 'Amaral'],\n",
       "   'offsets': [[630, 633], [635, 638], [640, 645]],\n",
       "   'start': 630,\n",
       "   'end': 645,\n",
       "   'idx_start': 15,\n",
       "   'idx_end': 17,\n",
       "   'role': 'None'}],\n",
       " 'file': 'APW_ENG_20030422.0485',\n",
       " 'dir': 'nw'}"
      ]
     },
     "execution_count": 25,
     "metadata": {},
     "output_type": "execute_result"
    }
   ],
   "source": [
    "type2example[\"None\"][0]"
   ]
  },
  {
   "cell_type": "code",
   "execution_count": 26,
   "metadata": {},
   "outputs": [
    {
     "data": {
      "text/plain": [
       "defaultdict(int,\n",
       "            {'Meet': 48,\n",
       "             'None': 20209,\n",
       "             'Transport': 67,\n",
       "             'Attack': 192,\n",
       "             'Die': 44,\n",
       "             'Phone-Write': 2,\n",
       "             'Start-Org': 6,\n",
       "             'Transfer-Money': 16,\n",
       "             'Charge-Indict': 18,\n",
       "             'Elect': 10,\n",
       "             'Appeal': 15,\n",
       "             'Trial-Hearing': 17,\n",
       "             'Start-Position': 9,\n",
       "             'Sue': 6,\n",
       "             'Convict': 11,\n",
       "             'Execute': 1,\n",
       "             'Sentence': 16,\n",
       "             'Divorce': 3,\n",
       "             'Marry': 4,\n",
       "             'Demonstrate': 29,\n",
       "             'Arrest-Jail': 13,\n",
       "             'End-Position': 9,\n",
       "             'Injure': 15,\n",
       "             'Release-Parole': 6,\n",
       "             'Fine': 7,\n",
       "             'Transfer-Ownership': 4,\n",
       "             'End-Org': 3,\n",
       "             'Acquit': 2,\n",
       "             'Nominate': 1})"
      ]
     },
     "execution_count": 26,
     "metadata": {},
     "output_type": "execute_result"
    }
   ],
   "source": [
    "from collections import defaultdict\n",
    "et_dict = defaultdict(int)\n",
    "for example in data:\n",
    "  et_dict[example[\"event_type\"]] += 1\n",
    "et_dict"
   ]
  },
  {
   "cell_type": "code",
   "execution_count": 28,
   "metadata": {},
   "outputs": [
    {
     "data": {
      "text/plain": [
       "574"
      ]
     },
     "execution_count": 28,
     "metadata": {},
     "output_type": "execute_result"
    }
   ],
   "source": [
    "20783-20209"
   ]
  },
  {
   "cell_type": "code",
   "execution_count": 27,
   "metadata": {},
   "outputs": [
    {
     "data": {
      "text/plain": [
       "20783"
      ]
     },
     "execution_count": 27,
     "metadata": {},
     "output_type": "execute_result"
    }
   ],
   "source": [
    "len(data)"
   ]
  },
  {
   "cell_type": "code",
   "execution_count": 8,
   "metadata": {},
   "outputs": [
    {
     "data": {
      "text/plain": [
       "dict_keys(['tokens', 'start', 'end', 'offsets', 'event_type', 'trigger_tokens', 'trigger_start', 'trigger_end', 'trigger_offsets', 'entities', 'file', 'dir'])"
      ]
     },
     "execution_count": 8,
     "metadata": {},
     "output_type": "execute_result"
    }
   ],
   "source": [
    "data[0].keys()"
   ]
  },
  {
   "cell_type": "code",
   "execution_count": 9,
   "metadata": {},
   "outputs": [
    {
     "data": {
      "text/plain": [
       "['A',\n",
       " 'reminder',\n",
       " ',',\n",
       " 'Jessica',\n",
       " 'Lynch',\n",
       " 'coming',\n",
       " 'back',\n",
       " 'to',\n",
       " 'the',\n",
       " 'United',\n",
       " 'States',\n",
       " 'within',\n",
       " 'the',\n",
       " 'hour']"
      ]
     },
     "execution_count": 9,
     "metadata": {},
     "output_type": "execute_result"
    }
   ],
   "source": [
    "data[0][\"tokens\"]"
   ]
  },
  {
   "cell_type": "code",
   "execution_count": 23,
   "metadata": {},
   "outputs": [
    {
     "data": {
      "text/plain": [
       "['coming']"
      ]
     },
     "execution_count": 23,
     "metadata": {},
     "output_type": "execute_result"
    }
   ],
   "source": [
    "data[0][\"trigger_tokens\"]"
   ]
  },
  {
   "cell_type": "markdown",
   "metadata": {},
   "source": [
    "```json\n",
    "{\n",
    "  \"tokens\": XX,           # tokens of a sentence, a list with string elements\n",
    "  \"start\": XX,            # starting offsets of the sentence in original files, an integer\n",
    "  \"end\": XX,              # ending offsets of the sentence in original files, an integer\n",
    "  \"offsets\":XX,           # offsets of each tokens, a list with tuple elements [start,end] 前闭后闭\n",
    "  \"trigger_tokens\":XX,    # tokens of trigger words, a list with string elements\n",
    "  \"trigger_start\":XX,     # start index of trigger words in `tokens`, an integer\n",
    "  \"trigger_end\":XX,       # end index of trigger words in `tokens`, an integer\n",
    "  \"trigger_offsets\":XX,   # offsets of trigger words, a list with tuple elements\n",
    "  \"event_type\":XX,        # event type of tokens with given triggers, a string\n",
    "  \"file\":XX,              # file name without suffix\n",
    "  \"dir\":XX,               # dir name\n",
    "  \"entities\":XX           # entitie in this sentencen, a list with entity elements\n",
    "}\n",
    "```"
   ]
  },
  {
   "cell_type": "code",
   "execution_count": 22,
   "metadata": {},
   "outputs": [
    {
     "data": {
      "text/plain": [
       "[{'tokens': ['the', 'United', 'States'],\n",
       "  'offsets': [[234, 236], [238, 243], [245, 250]],\n",
       "  'start': 234,\n",
       "  'end': 250,\n",
       "  'idx_start': 8,\n",
       "  'idx_end': 10,\n",
       "  'role': 'Destination'},\n",
       " {'tokens': ['Jessica', 'Lynch'],\n",
       "  'offsets': [[205, 211], [213, 217]],\n",
       "  'start': 205,\n",
       "  'end': 217,\n",
       "  'idx_start': 3,\n",
       "  'idx_end': 4,\n",
       "  'role': 'Artifact'},\n",
       " {'tokens': ['within', 'the', 'hour'],\n",
       "  'offsets': [[252, 257], [259, 261], [263, 266]],\n",
       "  'start': 252,\n",
       "  'end': 266,\n",
       "  'idx_start': 11,\n",
       "  'idx_end': 13,\n",
       "  'role': 'Time-Within'}]"
      ]
     },
     "execution_count": 22,
     "metadata": {},
     "output_type": "execute_result"
    }
   ],
   "source": [
    "data[0][\"entities\"]"
   ]
  },
  {
   "cell_type": "markdown",
   "metadata": {},
   "source": []
  }
 ],
 "metadata": {
  "interpreter": {
   "hash": "4357a1cd03782c0c98594e76fbf6d952c3e0efc58564f2f1a89b45eeae0b9e04"
  },
  "kernelspec": {
   "display_name": "Python 3.6.9 64-bit ('maven': conda)",
   "language": "python",
   "name": "python3"
  },
  "language_info": {
   "codemirror_mode": {
    "name": "ipython",
    "version": 3
   },
   "file_extension": ".py",
   "mimetype": "text/x-python",
   "name": "python",
   "nbconvert_exporter": "python",
   "pygments_lexer": "ipython3",
   "version": "3.8.0"
  },
  "orig_nbformat": 4
 },
 "nbformat": 4,
 "nbformat_minor": 2
}
